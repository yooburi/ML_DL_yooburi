{
  "nbformat": 4,
  "nbformat_minor": 0,
  "metadata": {
    "colab": {
      "provenance": [],
      "toc_visible": true,
      "authorship_tag": "ABX9TyMib2Eh1eba7GfXZXjU/GHN",
      "include_colab_link": true
    },
    "kernelspec": {
      "name": "python3",
      "display_name": "Python 3"
    },
    "language_info": {
      "name": "python"
    }
  },
  "cells": [
    {
      "cell_type": "markdown",
      "metadata": {
        "id": "view-in-github",
        "colab_type": "text"
      },
      "source": [
        "<a href=\"https://colab.research.google.com/github/yooburi/ML_DL_yooburi/blob/main/midterm_python.ipynb\" target=\"_parent\"><img src=\"https://colab.research.google.com/assets/colab-badge.svg\" alt=\"Open In Colab\"/></a>"
      ]
    },
    {
      "cell_type": "markdown",
      "source": [
        "# Python basic\n"
      ],
      "metadata": {
        "id": "5el0Jgiu0S3R"
      }
    },
    {
      "cell_type": "markdown",
      "source": [
        "### Python Basic"
      ],
      "metadata": {
        "id": "IBUcdzZk2iq1"
      }
    },
    {
      "cell_type": "code",
      "source": [
        "#파이썬은 변수타입 자동으로 선언\n",
        "a=3\n",
        "b=4.5\n",
        "c=\"Hello world\"\n",
        "print(a)\n",
        "print(b)\n",
        "print(c)\n",
        "print(type(a))\n",
        "print(type(b))\n",
        "print(type(c))"
      ],
      "metadata": {
        "colab": {
          "base_uri": "https://localhost:8080/"
        },
        "id": "-iuBEB1o1FKU",
        "outputId": "f4c43f21-96da-450f-aebb-9ac221950c48"
      },
      "execution_count": 1,
      "outputs": [
        {
          "output_type": "stream",
          "name": "stdout",
          "text": [
            "3\n",
            "4.5\n",
            "Hello world\n",
            "<class 'int'>\n",
            "<class 'float'>\n",
            "<class 'str'>\n"
          ]
        }
      ]
    },
    {
      "cell_type": "code",
      "source": [
        "#연산자\n",
        "#산술연산자, 비교연산자, 논리연산자\n",
        "\n",
        "a=5\n",
        "b=2\n",
        "print(a+b,a-b,a*b,a/b,a//b,a%b,a**b)\n",
        "\n",
        "a=5\n",
        "b=2\n",
        "print(a>b,a<b,a>=b,a<=b,a==b,a!=b)\n",
        "\n",
        "a=True\n",
        "b=False\n",
        "print(a and b, a or b, not a)"
      ],
      "metadata": {
        "colab": {
          "base_uri": "https://localhost:8080/"
        },
        "id": "hzRdAsrT1NeH",
        "outputId": "5eceacf6-7342-431f-9ebd-0849f6a23cf0"
      },
      "execution_count": 2,
      "outputs": [
        {
          "output_type": "stream",
          "name": "stdout",
          "text": [
            "7 3 10 2.5 2 1 25\n",
            "True False True False False True\n",
            "False True False\n"
          ]
        }
      ]
    },
    {
      "cell_type": "code",
      "source": [
        "# 조건문\n",
        "# input함수로 입력 받을 수 있음\n",
        "grade=float(input(\"점수 입력: \"))\n",
        "if grade>90:\n",
        "  score='A'\n",
        "elif grade>80:\n",
        "  score='B'\n",
        "else:\n",
        "  score='C'\n",
        "\n",
        "print(score)"
      ],
      "metadata": {
        "colab": {
          "base_uri": "https://localhost:8080/"
        },
        "id": "3CY0UxMx1jcb",
        "outputId": "bc94f093-d53a-498c-c8f7-a33e7ad9d46d"
      },
      "execution_count": 3,
      "outputs": [
        {
          "output_type": "stream",
          "name": "stdout",
          "text": [
            "점수 입력: 95\n",
            "A\n"
          ]
        }
      ]
    },
    {
      "cell_type": "code",
      "source": [
        "# 반복문\n",
        "# continue: 이번 회차 건너 뛰기\n",
        "# break: 반복 종료\n",
        "\n",
        "nums = [3, 5, -2, 7, 9]\n",
        "\n",
        "i = 0\n",
        "found = False\n",
        "while i < len(nums):\n",
        "    x = nums[i]\n",
        "    if x >= 0:\n",
        "        i += 1\n",
        "        continue    #음수가 아닐경우 print 미실행\n",
        "    print(\"첫 음수:\", x)\n",
        "    found = True\n",
        "    break\n",
        "\n",
        "if not found:\n",
        "    print(\"음수가 없습니다.\")\n"
      ],
      "metadata": {
        "colab": {
          "base_uri": "https://localhost:8080/"
        },
        "id": "Vm-_9tED1wCZ",
        "outputId": "eb19e0d8-c05f-4187-fea7-4e8090973464"
      },
      "execution_count": 4,
      "outputs": [
        {
          "output_type": "stream",
          "name": "stdout",
          "text": [
            "첫 음수: -2\n"
          ]
        }
      ]
    },
    {
      "cell_type": "code",
      "source": [
        "# 리스트\n",
        "# 서로 다른 자료형 포함할 수 있음.\n",
        "# 리스트의 특정값을 호출하는 것을 indexing, 특정 구간을 호출하는 것을 slicing이라고 함.\n",
        "\n",
        "list1=[] #공백리스트\n",
        "list2=[1,2,3] #정수 리스트\n",
        "list3=[1,2.5,3.5,4] #실수를 포함하는 리스트\n",
        "list4=['Hello','World'] #문자열을 포함하는 리스트\n",
        "list5=[1,3.5,'He',[list1,'one']] #다양한 자료형을 포함하는 리스트\n",
        "print(list5)\n",
        "\n",
        "index_ex=['a', 'b', ['c', 'd', ['e', 'f']]]\n",
        "print(index_ex[0]) #데이터 인덱스 0부터 순차적 부여\n",
        "print(index_ex[2])\n",
        "print(index_ex[2][2][0])#리스트 내 리스트 인덱싱\n"
      ],
      "metadata": {
        "colab": {
          "base_uri": "https://localhost:8080/"
        },
        "id": "a9tnyfYQ2JFQ",
        "outputId": "ba4d8b42-5b96-473c-a54e-b4bc6b9ded2f"
      },
      "execution_count": 5,
      "outputs": [
        {
          "output_type": "stream",
          "name": "stdout",
          "text": [
            "[1, 3.5, 'He', [[], 'one']]\n",
            "a\n",
            "['c', 'd', ['e', 'f']]\n",
            "e\n"
          ]
        }
      ]
    },
    {
      "cell_type": "code",
      "source": [
        "# 함수\n",
        "\n",
        "def calculate_grade(midterm, final, assignment, bonus=0):\n",
        "    \"\"\"\n",
        "    학생의 점수를 받아 최종 점수 및 등급을 계산하는 함수\n",
        "    \"\"\"\n",
        "    total = midterm * 0.3 + final * 0.5 + assignment * 0.2 + bonus\n",
        "    if total >= 90:\n",
        "        grade = \"A\"\n",
        "    elif total >= 80:\n",
        "        grade = \"B\"\n",
        "    elif total >= 70:\n",
        "        grade = \"C\"\n",
        "    elif total >= 60:\n",
        "        grade = \"D\"\n",
        "    else:\n",
        "        grade = \"F\"\n",
        "\n",
        "    print(f\"최종 점수는 {total:.2f}점, 학점은 {grade}.\")\n",
        "    return total, grade\n",
        "\n",
        "# 예시 실행\n",
        "calculate_grade(midterm=85, final=90, assignment=80)\n",
        "calculate_grade(75, 80, 70, bonus=5)\n"
      ],
      "metadata": {
        "colab": {
          "base_uri": "https://localhost:8080/"
        },
        "id": "punutn0-2aH7",
        "outputId": "851c3deb-1845-4f27-f927-146e5b1f7a47"
      },
      "execution_count": 6,
      "outputs": [
        {
          "output_type": "stream",
          "name": "stdout",
          "text": [
            "최종 점수는 86.50점, 학점은 B.\n",
            "최종 점수는 81.50점, 학점은 B.\n"
          ]
        },
        {
          "output_type": "execute_result",
          "data": {
            "text/plain": [
              "(81.5, 'B')"
            ]
          },
          "metadata": {},
          "execution_count": 6
        }
      ]
    },
    {
      "cell_type": "markdown",
      "source": [
        "**Numpy**\n",
        "\n",
        "```\n",
        "- 고속 배열 계산과 선형 대수 연산에 특화된 수치 연산 라이브러리로 과학, 공학 게산에 활용됨.\n",
        "- list보다 빠르고 효율적이며 벡터/행렬/텐서 등의 수학적 계산을 쉽게 구현 가능하게 함.\n",
        "- 선형 대수/난수 생성/통계/푸리에변환 등의 기능을 제공\n",
        "```\n"
      ],
      "metadata": {
        "id": "XQhhOV982xV7"
      }
    },
    {
      "cell_type": "code",
      "source": [
        "#넘파이배열\n",
        "import numpy as np\n",
        "x = np.array([1,2,3])\n",
        "y = np.array([4,5,6])\n",
        "\n",
        "print(x + y)  # [5 7 9]\n",
        "print(x * y)  # [ 4 10 18]\n",
        "print(x * 10) # [10 20 30]"
      ],
      "metadata": {
        "colab": {
          "base_uri": "https://localhost:8080/"
        },
        "id": "gHzovWjs3PER",
        "outputId": "a6a9791c-41bc-49e6-db78-129dceb26df8"
      },
      "execution_count": 7,
      "outputs": [
        {
          "output_type": "stream",
          "name": "stdout",
          "text": [
            "[5 7 9]\n",
            "[ 4 10 18]\n",
            "[10 20 30]\n"
          ]
        }
      ]
    },
    {
      "cell_type": "code",
      "source": [
        "#numpy 기능\n",
        "import numpy as np\n",
        "a = np.arange(0, 10)       # 0 ~ 9까지 배열\n",
        "b = np.linspace(0, 1, 5)   # 0부터 1까지 균등하게 5개 생성\n",
        "print(a)\n",
        "print(b)"
      ],
      "metadata": {
        "colab": {
          "base_uri": "https://localhost:8080/"
        },
        "id": "2RvpWfVI3TA0",
        "outputId": "cb02b5a4-ac9e-4b27-9739-6eb7e27a237d"
      },
      "execution_count": 8,
      "outputs": [
        {
          "output_type": "stream",
          "name": "stdout",
          "text": [
            "[0 1 2 3 4 5 6 7 8 9]\n",
            "[0.   0.25 0.5  0.75 1.  ]\n"
          ]
        }
      ]
    },
    {
      "cell_type": "code",
      "source": [
        "#차원 확인\n",
        "import numpy as np\n",
        "m = np.array([1,2,3,4,5,6])\n",
        "print(m.shape)      # (6,)\n",
        "n = m.reshape(2,3)\n",
        "print(n)"
      ],
      "metadata": {
        "colab": {
          "base_uri": "https://localhost:8080/"
        },
        "id": "zLzuD0kC3VTt",
        "outputId": "43dc0428-def1-4533-edc2-d9e92c03301a"
      },
      "execution_count": 9,
      "outputs": [
        {
          "output_type": "stream",
          "name": "stdout",
          "text": [
            "(6,)\n",
            "[[1 2 3]\n",
            " [4 5 6]]\n"
          ]
        }
      ]
    },
    {
      "cell_type": "markdown",
      "source": [
        "**Matplotlib**\n",
        "```\n",
        "데이터 시각화에 사용되는 2D 그래프 라이브러리\n",
        "```"
      ],
      "metadata": {
        "id": "iNaqn6cV3oHx"
      }
    },
    {
      "cell_type": "code",
      "source": [
        "import numpy as np\n",
        "import matplotlib.pyplot as plt\n",
        "\n",
        "# 데이터 준비\n",
        "x = np.linspace(0, 10, 100)     # 0~10을 100등분\n",
        "y = np.sin(x)\n",
        "\n",
        "# 그래프 그리기\n",
        "plt.plot(x, y)\n",
        "plt.title('Sine Wave')\n",
        "plt.xlabel('x')\n",
        "plt.ylabel('sin(x)')\n",
        "plt.show()"
      ],
      "metadata": {
        "colab": {
          "base_uri": "https://localhost:8080/",
          "height": 472
        },
        "id": "XOzY1o0A3x5l",
        "outputId": "77cb2613-1b2f-45d0-bd24-ad7071a9c9a9"
      },
      "execution_count": 10,
      "outputs": [
        {
          "output_type": "display_data",
          "data": {
            "text/plain": [
              "<Figure size 640x480 with 1 Axes>"
            ],
            "image/png": "[encoded data removed]"
          },
          "metadata": {}
        }
      ]
    }
  ]
}